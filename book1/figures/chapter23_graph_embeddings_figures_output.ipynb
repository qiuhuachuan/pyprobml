{
 "cells": [
  {
   "cell_type": "code",
   "execution_count": 6,
   "metadata": {
    "colab": {
     "base_uri": "https://localhost:8080/"
    },
    "id": "b9nusEDd-pG2",
    "outputId": "0cc5d524-fdb1-418f-d34f-c651d2c10d59"
   },
   "outputs": [
    {
     "name": "stdout",
     "output_type": "stream",
     "text": [
      "time: 1.36 ms (started: 2021-05-11 15:10:52 +00:00)\n"
     ]
    }
   ],
   "source": [
    "# Copyright 2021 Google LLC\n",
    "# Use of this source code is governed by an MIT-style\n",
    "# license that can be found in the LICENSE file or at\n",
    "# https://opensource.org/licenses/MIT.\n",
    "# Notebook authors: Kevin P. Murphy (murphyk@gmail.com)\n",
    "# and Mahmoud Soliman (mjs@aucegypt.edu)\n",
    "\n",
    "# This notebook reproduces figures for chapter 23 from the book\n",
    "# \"Probabilistic Machine Learning: An Introduction\"\n",
    "# by Kevin Murphy (MIT Press, 2021).\n",
    "# Book pdf is available from http://probml.ai"
   ]
  },
  {
   "cell_type": "markdown",
   "metadata": {
    "id": "AMqWsQ89-pG3"
   },
   "source": [
    "<a href=\"https://opensource.org/licenses/MIT\" target=\"_parent\"><img src=\"https://img.shields.io/github/license/probml/pyprobml\"/></a>"
   ]
  },
  {
   "cell_type": "markdown",
   "metadata": {
    "id": "qfH6WSg5-pG4"
   },
   "source": [
    "<a href=\"https://colab.research.google.com/github/probml/pyprobml/blob/master/book1/figures/chapter23_graph_embeddings_figures.ipynb\" target=\"_parent\"><img src=\"https://colab.research.google.com/assets/colab-badge.svg\" alt=\"Open In Colab\"/></a>"
   ]
  },
  {
   "cell_type": "markdown",
   "metadata": {
    "id": "Z7NLrzgr-pG4"
   },
   "source": [
    "## Figure 23.1:<a name='23.1'></a> <a name='non_euclidean_vs_euclidean'></a> "
   ]
  },
  {
   "cell_type": "markdown",
   "metadata": {
    "id": "Aj4ZZouw-pG5"
   },
   "source": [
    "\n",
    "  An illustration of Euclidean vs. non-Euclidean graphs. Used with permission from \\cite  chami2020machine .\\relax "
   ]
  },
  {
   "cell_type": "code",
   "execution_count": 7,
   "metadata": {
    "colab": {
     "base_uri": "https://localhost:8080/"
    },
    "id": "tEzk_BNs-pG6",
    "outputId": "d38824a9-4cf6-44d9-b1a9-aad243290d58"
   },
   "outputs": [
    {
     "name": "stdout",
     "output_type": "stream",
     "text": [
      "running setup...\n",
      "finished!\n",
      "time: 20.3 s (started: 2021-05-11 15:10:52 +00:00)\n"
     ]
    }
   ],
   "source": [
    "#@title Click me to run setup { display-mode: \"form\" }\n",
    "try:\n",
    "  if PYPROBML_SETUP_ALREADY_RUN:\n",
    "    print('skipping setup')\n",
    "except:\n",
    "  PYPROBML_SETUP_ALREADY_RUN = True\n",
    "  print('running setup...')\n",
    "  !git clone https://github.com/probml/pyprobml /pyprobml &> /dev/null \n",
    "  %cd -q /pyprobml/scripts\n",
    "  import pyprobml_utils as pml\n",
    "  import colab_utils\n",
    "  import os\n",
    "  os.environ[\"PYPROBML\"] = \"..\" # one above current scripts directory\n",
    "  import google.colab \n",
    "  from google.colab.patches import cv2_imshow\n",
    "  %reload_ext autoreload \n",
    "  %autoreload 2\n",
    "  def show_image(img_path,size=None,ratio=None):\n",
    "      img = colab_utils.image_resize(img_path, size)\n",
    "      cv2_imshow(img)\n",
    "  print('finished!')"
   ]
  },
  {
   "cell_type": "code",
   "execution_count": 8,
   "metadata": {
    "colab": {
     "base_uri": "https://localhost:8080/",
     "height": 323
    },
    "id": "vqudMsnz-pG7",
    "outputId": "a419d749-489b-47fb-c23e-e9428af9f4c6"
   },
   "outputs": [
    {
     "ename": "AttributeError",
     "evalue": "ignored",
     "output_type": "error",
     "traceback": [
      "\u001b[0;31m---------------------------------------------------------------------------\u001b[0m",
      "\u001b[0;31mAttributeError\u001b[0m                            Traceback (most recent call last)",
      "\u001b[0;32m<ipython-input-8-894a6e666dd5>\u001b[0m in \u001b[0;36m<module>\u001b[0;34m()\u001b[0m\n\u001b[0;32m----> 1\u001b[0;31m \u001b[0mshow_image\u001b[0m\u001b[0;34m(\u001b[0m\u001b[0;34m\"/pyprobml/book1/figures/images/Figure_23.1_A.png\"\u001b[0m\u001b[0;34m)\u001b[0m\u001b[0;34m\u001b[0m\u001b[0;34m\u001b[0m\u001b[0m\n\u001b[0m",
      "\u001b[0;32m<ipython-input-7-5e51f73091b6>\u001b[0m in \u001b[0;36mshow_image\u001b[0;34m(img_path, size, ratio)\u001b[0m\n\u001b[1;32m     17\u001b[0m   \u001b[0mget_ipython\u001b[0m\u001b[0;34m(\u001b[0m\u001b[0;34m)\u001b[0m\u001b[0;34m.\u001b[0m\u001b[0mmagic\u001b[0m\u001b[0;34m(\u001b[0m\u001b[0;34m'autoreload 2'\u001b[0m\u001b[0;34m)\u001b[0m\u001b[0;34m\u001b[0m\u001b[0;34m\u001b[0m\u001b[0m\n\u001b[1;32m     18\u001b[0m   \u001b[0;32mdef\u001b[0m \u001b[0mshow_image\u001b[0m\u001b[0;34m(\u001b[0m\u001b[0mimg_path\u001b[0m\u001b[0;34m,\u001b[0m\u001b[0msize\u001b[0m\u001b[0;34m=\u001b[0m\u001b[0;32mNone\u001b[0m\u001b[0;34m,\u001b[0m\u001b[0mratio\u001b[0m\u001b[0;34m=\u001b[0m\u001b[0;32mNone\u001b[0m\u001b[0;34m)\u001b[0m\u001b[0;34m:\u001b[0m\u001b[0;34m\u001b[0m\u001b[0;34m\u001b[0m\u001b[0m\n\u001b[0;32m---> 19\u001b[0;31m       \u001b[0mimg\u001b[0m \u001b[0;34m=\u001b[0m \u001b[0mcolab_utils\u001b[0m\u001b[0;34m.\u001b[0m\u001b[0mimage_resize\u001b[0m\u001b[0;34m(\u001b[0m\u001b[0mimg_path\u001b[0m\u001b[0;34m,\u001b[0m \u001b[0msize\u001b[0m\u001b[0;34m)\u001b[0m\u001b[0;34m\u001b[0m\u001b[0;34m\u001b[0m\u001b[0m\n\u001b[0m\u001b[1;32m     20\u001b[0m       \u001b[0mcv2_imshow\u001b[0m\u001b[0;34m(\u001b[0m\u001b[0mimg\u001b[0m\u001b[0;34m)\u001b[0m\u001b[0;34m\u001b[0m\u001b[0;34m\u001b[0m\u001b[0m\n\u001b[1;32m     21\u001b[0m   \u001b[0mprint\u001b[0m\u001b[0;34m(\u001b[0m\u001b[0;34m'finished!'\u001b[0m\u001b[0;34m)\u001b[0m\u001b[0;34m\u001b[0m\u001b[0;34m\u001b[0m\u001b[0m\n",
      "\u001b[0;32m/pyprobml/scripts/colab_utils.py\u001b[0m in \u001b[0;36mimage_resize\u001b[0;34m(img_path, size, ratio)\u001b[0m\n\u001b[1;32m     30\u001b[0m         \u001b[0msize\u001b[0m\u001b[0;34m=\u001b[0m\u001b[0;34m[\u001b[0m\u001b[0;36m0\u001b[0m\u001b[0;34m,\u001b[0m\u001b[0;36m480\u001b[0m\u001b[0;34m]\u001b[0m\u001b[0;34m\u001b[0m\u001b[0;34m\u001b[0m\u001b[0m\n\u001b[1;32m     31\u001b[0m     \u001b[0mimg\u001b[0m \u001b[0;34m=\u001b[0m \u001b[0mcv2\u001b[0m\u001b[0;34m.\u001b[0m\u001b[0mimread\u001b[0m\u001b[0;34m(\u001b[0m\u001b[0mimg_path\u001b[0m\u001b[0;34m,\u001b[0m \u001b[0mcv2\u001b[0m\u001b[0;34m.\u001b[0m\u001b[0mIMREAD_UNCHANGED\u001b[0m\u001b[0;34m)\u001b[0m\u001b[0;34m\u001b[0m\u001b[0;34m\u001b[0m\u001b[0m\n\u001b[0;32m---> 32\u001b[0;31m     \u001b[0mdim\u001b[0m \u001b[0;34m=\u001b[0m \u001b[0mcompute_image_resize\u001b[0m\u001b[0;34m(\u001b[0m\u001b[0mimg\u001b[0m\u001b[0;34m,\u001b[0m \u001b[0mheight\u001b[0m\u001b[0;34m=\u001b[0m\u001b[0msize\u001b[0m\u001b[0;34m[\u001b[0m\u001b[0;36m1\u001b[0m\u001b[0;34m]\u001b[0m\u001b[0;34m)\u001b[0m\u001b[0;34m\u001b[0m\u001b[0;34m\u001b[0m\u001b[0m\n\u001b[0m\u001b[1;32m     33\u001b[0m     \u001b[0mimg\u001b[0m \u001b[0;34m=\u001b[0m \u001b[0mcv2\u001b[0m\u001b[0;34m.\u001b[0m\u001b[0mresize\u001b[0m\u001b[0;34m(\u001b[0m\u001b[0mimg\u001b[0m\u001b[0;34m,\u001b[0m \u001b[0mdim\u001b[0m\u001b[0;34m,\u001b[0m \u001b[0minterpolation\u001b[0m \u001b[0;34m=\u001b[0m  \u001b[0mcv2\u001b[0m\u001b[0;34m.\u001b[0m\u001b[0mINTER_AREA\u001b[0m\u001b[0;34m)\u001b[0m\u001b[0;34m\u001b[0m\u001b[0;34m\u001b[0m\u001b[0m\n\u001b[1;32m     34\u001b[0m     \u001b[0;32mreturn\u001b[0m \u001b[0mimg\u001b[0m\u001b[0;34m\u001b[0m\u001b[0;34m\u001b[0m\u001b[0m\n",
      "\u001b[0;32m/pyprobml/scripts/colab_utils.py\u001b[0m in \u001b[0;36mcompute_image_resize\u001b[0;34m(image, width, height)\u001b[0m\n\u001b[1;32m      7\u001b[0m     \u001b[0;31m# grab the image size\u001b[0m\u001b[0;34m\u001b[0m\u001b[0;34m\u001b[0m\u001b[0;34m\u001b[0m\u001b[0m\n\u001b[1;32m      8\u001b[0m     \u001b[0mdim\u001b[0m \u001b[0;34m=\u001b[0m \u001b[0;32mNone\u001b[0m\u001b[0;34m\u001b[0m\u001b[0;34m\u001b[0m\u001b[0m\n\u001b[0;32m----> 9\u001b[0;31m     \u001b[0;34m(\u001b[0m\u001b[0mh\u001b[0m\u001b[0;34m,\u001b[0m \u001b[0mw\u001b[0m\u001b[0;34m)\u001b[0m \u001b[0;34m=\u001b[0m \u001b[0mimage\u001b[0m\u001b[0;34m.\u001b[0m\u001b[0mshape\u001b[0m\u001b[0;34m[\u001b[0m\u001b[0;34m:\u001b[0m\u001b[0;36m2\u001b[0m\u001b[0;34m]\u001b[0m\u001b[0;34m\u001b[0m\u001b[0;34m\u001b[0m\u001b[0m\n\u001b[0m\u001b[1;32m     10\u001b[0m \u001b[0;34m\u001b[0m\u001b[0m\n\u001b[1;32m     11\u001b[0m     \u001b[0;31m# check to see if the width is None\u001b[0m\u001b[0;34m\u001b[0m\u001b[0;34m\u001b[0m\u001b[0;34m\u001b[0m\u001b[0m\n",
      "\u001b[0;31mAttributeError\u001b[0m: 'NoneType' object has no attribute 'shape'"
     ]
    },
    {
     "name": "stdout",
     "output_type": "stream",
     "text": [
      "time: 116 ms (started: 2021-05-11 15:11:12 +00:00)\n"
     ]
    }
   ],
   "source": [
    "show_image(\"/pyprobml/book1/figures/images/Figure_23.1_A.png\")"
   ]
  },
  {
   "cell_type": "code",
   "execution_count": null,
   "metadata": {
    "id": "hNwQMWcR-pG7"
   },
   "outputs": [],
   "source": [
    "show_image(\"/pyprobml/book1/figures/images/Figure_23.1_B.png\")"
   ]
  },
  {
   "cell_type": "markdown",
   "metadata": {
    "id": "djWQTzxD-pG8"
   },
   "source": [
    "## Figure 23.2:<a name='23.2'></a> <a name='enc-dec'></a> "
   ]
  },
  {
   "cell_type": "markdown",
   "metadata": {
    "id": "ZaFdzad--pG8"
   },
   "source": [
    "\n",
    "  Illustration of the \\textsc  GraphEDM  framework from \\citet  chami2020machine . Based on the supervision available, methods will use some or all of the branches. In particular, unsupervised methods do not leverage label decoding for training and only optimize the similarity decoder (lower branch). On the other hand, semi-supervised and supervised methods leverage the additional supervision to learn models' parameters (upper branch). Used with permission.\\relax "
   ]
  },
  {
   "cell_type": "code",
   "execution_count": null,
   "metadata": {
    "id": "21ByFgqi-pG9"
   },
   "outputs": [],
   "source": [
    "#@title Click me to run setup { display-mode: \"form\" }\n",
    "try:\n",
    "  if PYPROBML_SETUP_ALREADY_RUN:\n",
    "    print('skipping setup')\n",
    "except:\n",
    "  PYPROBML_SETUP_ALREADY_RUN = True\n",
    "  print('running setup...')\n",
    "  !git clone https://github.com/probml/pyprobml /pyprobml &> /dev/null \n",
    "  %cd -q /pyprobml/scripts\n",
    "  import pyprobml_utils as pml\n",
    "  import colab_utils\n",
    "  import os\n",
    "  os.environ[\"PYPROBML\"] = \"..\" # one above current scripts directory\n",
    "  import google.colab \n",
    "  from google.colab.patches import cv2_imshow\n",
    "  %reload_ext autoreload \n",
    "  %autoreload 2\n",
    "  def show_image(img_path,size=None,ratio=None):\n",
    "      img = colab_utils.image_resize(img_path, size)\n",
    "      cv2_imshow(img)\n",
    "  print('finished!')"
   ]
  },
  {
   "cell_type": "markdown",
   "metadata": {
    "id": "K1J1BUw6-pG-"
   },
   "source": [
    "## Figure 23.3:<a name='23.3'></a> <a name='shallow'></a> "
   ]
  },
  {
   "cell_type": "markdown",
   "metadata": {
    "id": "uuooRzBk-pG-"
   },
   "source": [
    "\n",
    "  Shallow embedding methods. The encoder is a simple embedding look-up and the graph structure is only used in the loss function. Reprinted with permission from \\cite  chami2020machine .\\relax "
   ]
  },
  {
   "cell_type": "code",
   "execution_count": null,
   "metadata": {
    "id": "QPi9mvvN-pG_"
   },
   "outputs": [],
   "source": [
    "#@title Click me to run setup { display-mode: \"form\" }\n",
    "try:\n",
    "  if PYPROBML_SETUP_ALREADY_RUN:\n",
    "    print('skipping setup')\n",
    "except:\n",
    "  PYPROBML_SETUP_ALREADY_RUN = True\n",
    "  print('running setup...')\n",
    "  !git clone https://github.com/probml/pyprobml /pyprobml &> /dev/null \n",
    "  %cd -q /pyprobml/scripts\n",
    "  import pyprobml_utils as pml\n",
    "  import colab_utils\n",
    "  import os\n",
    "  os.environ[\"PYPROBML\"] = \"..\" # one above current scripts directory\n",
    "  import google.colab \n",
    "  from google.colab.patches import cv2_imshow\n",
    "  %reload_ext autoreload \n",
    "  %autoreload 2\n",
    "  def show_image(img_path,size=None,ratio=None):\n",
    "      img = colab_utils.image_resize(img_path, size)\n",
    "      cv2_imshow(img)\n",
    "  print('finished!')"
   ]
  },
  {
   "cell_type": "markdown",
   "metadata": {
    "id": "B20t_JuO-pHA"
   },
   "source": [
    "## Figure 23.4:<a name='23.4'></a> <a name='walk'></a> "
   ]
  },
  {
   "cell_type": "markdown",
   "metadata": {
    "id": "QWv1P8QP-pHB"
   },
   "source": [
    "\n",
    "  An overview of the pipeline for random-walk graph embedding methods. Reprinted with permission from <a href='#godec_2018'>[Pri18]</a> .\\relax "
   ]
  },
  {
   "cell_type": "code",
   "execution_count": null,
   "metadata": {
    "id": "y1f6-_83-pHB"
   },
   "outputs": [],
   "source": [
    "#@title Click me to run setup { display-mode: \"form\" }\n",
    "try:\n",
    "  if PYPROBML_SETUP_ALREADY_RUN:\n",
    "    print('skipping setup')\n",
    "except:\n",
    "  PYPROBML_SETUP_ALREADY_RUN = True\n",
    "  print('running setup...')\n",
    "  !git clone https://github.com/probml/pyprobml /pyprobml &> /dev/null \n",
    "  %cd -q /pyprobml/scripts\n",
    "  import pyprobml_utils as pml\n",
    "  import colab_utils\n",
    "  import os\n",
    "  os.environ[\"PYPROBML\"] = \"..\" # one above current scripts directory\n",
    "  import google.colab \n",
    "  from google.colab.patches import cv2_imshow\n",
    "  %reload_ext autoreload \n",
    "  %autoreload 2\n",
    "  def show_image(img_path,size=None,ratio=None):\n",
    "      img = colab_utils.image_resize(img_path, size)\n",
    "      cv2_imshow(img)\n",
    "  print('finished!')"
   ]
  },
  {
   "cell_type": "code",
   "execution_count": null,
   "metadata": {
    "id": "YK3wLMvb-pHC"
   },
   "outputs": [],
   "source": [
    "show_image(\"/pyprobml/book1/figures/images/Figure_23.4.png\")"
   ]
  },
  {
   "cell_type": "markdown",
   "metadata": {
    "id": "dEI0Rh4r-pHC"
   },
   "source": [
    "## Figure 23.5:<a name='23.5'></a> <a name='graphSage'></a> "
   ]
  },
  {
   "cell_type": "markdown",
   "metadata": {
    "id": "Qf7D4BPB-pHD"
   },
   "source": [
    "\n",
    "  Illustration of the GraphSAGE model. Reprinted with permission from <a href='#hamilton2017inductive'>[WZJ17]</a> .\\relax "
   ]
  },
  {
   "cell_type": "code",
   "execution_count": null,
   "metadata": {
    "id": "59Z2RavJ-pHD"
   },
   "outputs": [],
   "source": [
    "#@title Click me to run setup { display-mode: \"form\" }\n",
    "try:\n",
    "  if PYPROBML_SETUP_ALREADY_RUN:\n",
    "    print('skipping setup')\n",
    "except:\n",
    "  PYPROBML_SETUP_ALREADY_RUN = True\n",
    "  print('running setup...')\n",
    "  !git clone https://github.com/probml/pyprobml /pyprobml &> /dev/null \n",
    "  %cd -q /pyprobml/scripts\n",
    "  import pyprobml_utils as pml\n",
    "  import colab_utils\n",
    "  import os\n",
    "  os.environ[\"PYPROBML\"] = \"..\" # one above current scripts directory\n",
    "  import google.colab \n",
    "  from google.colab.patches import cv2_imshow\n",
    "  %reload_ext autoreload \n",
    "  %autoreload 2\n",
    "  def show_image(img_path,size=None,ratio=None):\n",
    "      img = colab_utils.image_resize(img_path, size)\n",
    "      cv2_imshow(img)\n",
    "  print('finished!')"
   ]
  },
  {
   "cell_type": "code",
   "execution_count": null,
   "metadata": {
    "id": "E1-kvfm7-pHE"
   },
   "outputs": [],
   "source": [
    "show_image(\"/pyprobml/book1/figures/images/Figure_23.5.png\")"
   ]
  },
  {
   "cell_type": "markdown",
   "metadata": {
    "id": "Uaur_KaJ-pHE"
   },
   "source": [
    "## Figure 23.6:<a name='23.6'></a> <a name='hgcn_viz'></a> "
   ]
  },
  {
   "cell_type": "markdown",
   "metadata": {
    "id": "VCtAjEpq-pHF"
   },
   "source": [
    "\n",
    "  Euclidean (left) and hyperbolic (right) embeddings of a tree graph. Hyperbolic embeddings learn natural hierarchies in the embedding space (depth indicated by color). Reprinted with permission from <a href='#chami2019hyperbolic'>[Ine+19]</a> .\\relax "
   ]
  },
  {
   "cell_type": "code",
   "execution_count": null,
   "metadata": {
    "id": "ZVlokeA6-pHF"
   },
   "outputs": [],
   "source": [
    "#@title Click me to run setup { display-mode: \"form\" }\n",
    "try:\n",
    "  if PYPROBML_SETUP_ALREADY_RUN:\n",
    "    print('skipping setup')\n",
    "except:\n",
    "  PYPROBML_SETUP_ALREADY_RUN = True\n",
    "  print('running setup...')\n",
    "  !git clone https://github.com/probml/pyprobml /pyprobml &> /dev/null \n",
    "  %cd -q /pyprobml/scripts\n",
    "  import pyprobml_utils as pml\n",
    "  import colab_utils\n",
    "  import os\n",
    "  os.environ[\"PYPROBML\"] = \"..\" # one above current scripts directory\n",
    "  import google.colab \n",
    "  from google.colab.patches import cv2_imshow\n",
    "  %reload_ext autoreload \n",
    "  %autoreload 2\n",
    "  def show_image(img_path,size=None,ratio=None):\n",
    "      img = colab_utils.image_resize(img_path, size)\n",
    "      cv2_imshow(img)\n",
    "  print('finished!')"
   ]
  },
  {
   "cell_type": "code",
   "execution_count": null,
   "metadata": {
    "id": "O9qMfB4n-pHG"
   },
   "outputs": [],
   "source": [
    "show_image(\"/pyprobml/book1/figures/images/Figure_23.6_A.png\")"
   ]
  },
  {
   "cell_type": "code",
   "execution_count": null,
   "metadata": {
    "id": "n5sc_NhC-pHG"
   },
   "outputs": [],
   "source": [
    "show_image(\"/pyprobml/book1/figures/images/Figure_23.6_B.png\")"
   ]
  },
  {
   "cell_type": "markdown",
   "metadata": {
    "id": "qT5WP5EF-pHH"
   },
   "source": [
    "## Figure 23.7:<a name='23.7'></a> <a name='agg_unsup'></a> "
   ]
  },
  {
   "cell_type": "markdown",
   "metadata": {
    "id": "w2VF7-fT-pHH"
   },
   "source": [
    "\n",
    "  Unsupervised graph neural networks. Graph structure and input features are mapped to low-dimensional embeddings using a graph neural network encoder. Embeddings are then decoded to compute a graph regularization loss (unsupervised). Reprinted with permission from \\cite  chami2020machine .\\relax "
   ]
  },
  {
   "cell_type": "code",
   "execution_count": null,
   "metadata": {
    "id": "84cQGTHP-pHH"
   },
   "outputs": [],
   "source": [
    "#@title Click me to run setup { display-mode: \"form\" }\n",
    "try:\n",
    "  if PYPROBML_SETUP_ALREADY_RUN:\n",
    "    print('skipping setup')\n",
    "except:\n",
    "  PYPROBML_SETUP_ALREADY_RUN = True\n",
    "  print('running setup...')\n",
    "  !git clone https://github.com/probml/pyprobml /pyprobml &> /dev/null \n",
    "  %cd -q /pyprobml/scripts\n",
    "  import pyprobml_utils as pml\n",
    "  import colab_utils\n",
    "  import os\n",
    "  os.environ[\"PYPROBML\"] = \"..\" # one above current scripts directory\n",
    "  import google.colab \n",
    "  from google.colab.patches import cv2_imshow\n",
    "  %reload_ext autoreload \n",
    "  %autoreload 2\n",
    "  def show_image(img_path,size=None,ratio=None):\n",
    "      img = colab_utils.image_resize(img_path, size)\n",
    "      cv2_imshow(img)\n",
    "  print('finished!')"
   ]
  },
  {
   "cell_type": "markdown",
   "metadata": {
    "id": "CubHnAYU-pHI"
   },
   "source": [
    "## Figure 23.8:<a name='23.8'></a> <a name='fraudGraph'></a> "
   ]
  },
  {
   "cell_type": "markdown",
   "metadata": {
    "id": "UTuw3xxq-pHJ"
   },
   "source": [
    "\n",
    "  A graph representation of some financial transactions. Adapted from   http://pgql-lang.org/spec/1.2/ . "
   ]
  },
  {
   "cell_type": "code",
   "execution_count": null,
   "metadata": {
    "id": "sP47vMMq-pHJ"
   },
   "outputs": [],
   "source": [
    "#@title Click me to run setup { display-mode: \"form\" }\n",
    "try:\n",
    "  if PYPROBML_SETUP_ALREADY_RUN:\n",
    "    print('skipping setup')\n",
    "except:\n",
    "  PYPROBML_SETUP_ALREADY_RUN = True\n",
    "  print('running setup...')\n",
    "  !git clone https://github.com/probml/pyprobml /pyprobml &> /dev/null \n",
    "  %cd -q /pyprobml/scripts\n",
    "  import pyprobml_utils as pml\n",
    "  import colab_utils\n",
    "  import os\n",
    "  os.environ[\"PYPROBML\"] = \"..\" # one above current scripts directory\n",
    "  import google.colab \n",
    "  from google.colab.patches import cv2_imshow\n",
    "  %reload_ext autoreload \n",
    "  %autoreload 2\n",
    "  def show_image(img_path,size=None,ratio=None):\n",
    "      img = colab_utils.image_resize(img_path, size)\n",
    "      cv2_imshow(img)\n",
    "  print('finished!')"
   ]
  },
  {
   "cell_type": "code",
   "execution_count": null,
   "metadata": {
    "id": "-IKavkR6-pHK"
   },
   "outputs": [],
   "source": [
    "show_image(\"/pyprobml/book1/figures/images/Figure_23.8.png\")"
   ]
  },
  {
   "cell_type": "markdown",
   "metadata": {
    "id": "FZ1KrzmG-pHK"
   },
   "source": [
    "## Figure 23.9:<a name='23.9'></a> <a name='smell'></a> "
   ]
  },
  {
   "cell_type": "markdown",
   "metadata": {
    "id": "g4vM88vC-pHK"
   },
   "source": [
    "\n",
    "  Structurally similar molecules do not necessarily have similar odor descriptors. (A) Lyral, the reference molecule. (B) Molecules with similar structure can share similar odor descriptors. (C) However, a small structural change can render the molecule odorless. (D) Further, large structural changes can leave the odor of the molecule largely unchanged. From Figure 1 of <a href='#SanchezLengeling2019'>[Ben+19]</a> , originally from <a href='#Ohloff2012'>[GWP12]</a> . Used with kind permission of Benjamin Sanchez-Lengeling. "
   ]
  },
  {
   "cell_type": "code",
   "execution_count": null,
   "metadata": {
    "id": "Y5DLxxxK-pHL"
   },
   "outputs": [],
   "source": [
    "#@title Click me to run setup { display-mode: \"form\" }\n",
    "try:\n",
    "  if PYPROBML_SETUP_ALREADY_RUN:\n",
    "    print('skipping setup')\n",
    "except:\n",
    "  PYPROBML_SETUP_ALREADY_RUN = True\n",
    "  print('running setup...')\n",
    "  !git clone https://github.com/probml/pyprobml /pyprobml &> /dev/null \n",
    "  %cd -q /pyprobml/scripts\n",
    "  import pyprobml_utils as pml\n",
    "  import colab_utils\n",
    "  import os\n",
    "  os.environ[\"PYPROBML\"] = \"..\" # one above current scripts directory\n",
    "  import google.colab \n",
    "  from google.colab.patches import cv2_imshow\n",
    "  %reload_ext autoreload \n",
    "  %autoreload 2\n",
    "  def show_image(img_path,size=None,ratio=None):\n",
    "      img = colab_utils.image_resize(img_path, size)\n",
    "      cv2_imshow(img)\n",
    "  print('finished!')"
   ]
  },
  {
   "cell_type": "code",
   "execution_count": null,
   "metadata": {
    "id": "LcNz1EN9-pHL"
   },
   "outputs": [],
   "source": [
    "show_image(\"/pyprobml/book1/figures/images/Figure_23.9.png\")"
   ]
  },
  {
   "cell_type": "markdown",
   "metadata": {
    "id": "K0G_pE6C-pHM"
   },
   "source": [
    "## References:\n",
    " <a name='SanchezLengeling2019'>[Ben+19]</a> S. Benjamin, W. JenniferN, L. K, G. RichardC, A. Al'an and W. AlexanderB. \"Machine Learning for Scent: Learning GeneralizablePerceptual Representations of Small Molecules\". abs/1910.10685 (2019). arXiv: 1910.10685 \n",
    "\n",
    "<a name='Ohloff2012'>[GWP12]</a> O. Gunther, P. Wilhelm and K. Philip. \"Scent and Chemistry\". (2012). \n",
    "\n",
    "<a name='chami2019hyperbolic'>[Ine+19]</a> C. Ines, Y. Zhitao, R. Christopher and L. Jure. \"Hyperbolic graph convolutional neural networks\". (2019). \n",
    "\n",
    "<a name='godec_2018'>[Pri18]</a> G. Primož \"\". (2018). \n",
    "\n",
    "<a name='hamilton2017inductive'>[WZJ17]</a> H. Will, Y. Zhitao and L. Jure. \"Inductive representation learning on large graphs\". (2017). \n",
    "\n"
   ]
  }
 ],
 "metadata": {
  "kernelspec": {
   "display_name": "Python 3",
   "name": "python3"
  }
 },
 "nbformat": 4,
 "nbformat_minor": 4
}